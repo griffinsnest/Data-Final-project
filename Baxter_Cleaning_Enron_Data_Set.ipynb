{
  "nbformat": 4,
  "nbformat_minor": 0,
  "metadata": {
    "kernelspec": {
      "language": "python",
      "display_name": "Python 3",
      "name": "python3"
    },
    "language_info": {
      "pygments_lexer": "ipython3",
      "nbconvert_exporter": "python",
      "version": "3.6.4",
      "file_extension": ".py",
      "codemirror_mode": {
        "name": "ipython",
        "version": 3
      },
      "name": "python",
      "mimetype": "text/x-python"
    },
    "colab": {
      "name": "Baxter Cleaning Enron Data Set",
      "provenance": [],
      "collapsed_sections": [
        "HZ8ow0hcrsnu"
      ],
      "include_colab_link": true
    }
  },
  "cells": [
    {
      "cell_type": "markdown",
      "metadata": {
        "id": "view-in-github",
        "colab_type": "text"
      },
      "source": [
        "<a href=\"https://colab.research.google.com/github/griffinsnest/Data-Final-project/blob/main/Baxter_Cleaning_Enron_Data_Set.ipynb\" target=\"_parent\"><img src=\"https://colab.research.google.com/assets/colab-badge.svg\" alt=\"Open In Colab\"/></a>"
      ]
    },
    {
      "cell_type": "markdown",
      "metadata": {
        "id": "urJqlp8Krsno"
      },
      "source": [
        "### Import necessary libraries"
      ]
    },
    {
      "cell_type": "code",
      "metadata": {
        "trusted": true,
        "id": "a_L_d3SSrsnp"
      },
      "source": [
        "import pandas as pd\n",
        "import numpy as np\n",
        "import multiprocessing\n",
        "#data visualization libraries\n",
        "import seaborn as sns\n",
        "import matplotlib.pyplot as plt\n",
        "#library for processing objects structured like emails\n",
        "import email\n"
      ],
      "execution_count": null,
      "outputs": []
    },
    {
      "cell_type": "markdown",
      "metadata": {
        "id": "kZk02awArsnp"
      },
      "source": [
        "### Load Data"
      ]
    },
    {
      "cell_type": "code",
      "metadata": {
        "trusted": true,
        "id": "mxGmQxuTrsnp"
      },
      "source": [
        "#Uncomment out first line of code and comment out second line below to see results of first final project code cell.\n",
        "#Leave it as it is now and simply runn all code cells besides first one under final project code to see result of NewData tests.\n",
        "#df = pd.read_csv(\"/content/final_proj_data.csv\")\n",
        "df = pd.read_csv(\"/content/NewData.csv\")"
      ],
      "execution_count": null,
      "outputs": []
    },
    {
      "cell_type": "markdown",
      "metadata": {
        "id": "gz-4e90zrsnq"
      },
      "source": [
        "### Data Exploration"
      ]
    },
    {
      "cell_type": "code",
      "metadata": {
        "trusted": true,
        "colab": {
          "base_uri": "https://localhost:8080/",
          "height": 206
        },
        "id": "Zx8zSVDNrsnq",
        "outputId": "b0124968-cb34-480d-82fe-331f1c54257c"
      },
      "source": [
        "# view first 5 rows of the dataset\n",
        "df.head()"
      ],
      "execution_count": null,
      "outputs": [
        {
          "output_type": "execute_result",
          "data": {
            "text/html": [
              "<div>\n",
              "<style scoped>\n",
              "    .dataframe tbody tr th:only-of-type {\n",
              "        vertical-align: middle;\n",
              "    }\n",
              "\n",
              "    .dataframe tbody tr th {\n",
              "        vertical-align: top;\n",
              "    }\n",
              "\n",
              "    .dataframe thead th {\n",
              "        text-align: right;\n",
              "    }\n",
              "</style>\n",
              "<table border=\"1\" class=\"dataframe\">\n",
              "  <thead>\n",
              "    <tr style=\"text-align: right;\">\n",
              "      <th></th>\n",
              "      <th>Unnamed: 0</th>\n",
              "      <th>Unnamed</th>\n",
              "      <th>file</th>\n",
              "      <th>message</th>\n",
              "      <th>label</th>\n",
              "    </tr>\n",
              "  </thead>\n",
              "  <tbody>\n",
              "    <tr>\n",
              "      <th>0</th>\n",
              "      <td>0</td>\n",
              "      <td>1</td>\n",
              "      <td>badeer-r/discussion_threads/212.</td>\n",
              "      <td>Message-ID: &lt;13581696.1075863601488.JavaMail.e...</td>\n",
              "      <td>0.0</td>\n",
              "    </tr>\n",
              "    <tr>\n",
              "      <th>1</th>\n",
              "      <td>1</td>\n",
              "      <td>2</td>\n",
              "      <td>allen-p/deleted_items/189.</td>\n",
              "      <td>Message-ID: &lt;7027882.1075858635275.JavaMail.ev...</td>\n",
              "      <td>0.0</td>\n",
              "    </tr>\n",
              "    <tr>\n",
              "      <th>2</th>\n",
              "      <td>2</td>\n",
              "      <td>3</td>\n",
              "      <td>arnold-j/all_documents/331.</td>\n",
              "      <td>Message-ID: &lt;23580308.1075857574590.JavaMail.e...</td>\n",
              "      <td>0.0</td>\n",
              "    </tr>\n",
              "    <tr>\n",
              "      <th>3</th>\n",
              "      <td>3</td>\n",
              "      <td>4</td>\n",
              "      <td>allen-p/all_documents/260.</td>\n",
              "      <td>Message-ID: &lt;14437034.1075855671174.JavaMail.e...</td>\n",
              "      <td>0.0</td>\n",
              "    </tr>\n",
              "    <tr>\n",
              "      <th>4</th>\n",
              "      <td>4</td>\n",
              "      <td>5</td>\n",
              "      <td>arnold-j/deleted_items/702.</td>\n",
              "      <td>Message-ID: &lt;21959484.1075861667058.JavaMail.e...</td>\n",
              "      <td>0.0</td>\n",
              "    </tr>\n",
              "  </tbody>\n",
              "</table>\n",
              "</div>"
            ],
            "text/plain": [
              "   Unnamed: 0  ...  label\n",
              "0           0  ...    0.0\n",
              "1           1  ...    0.0\n",
              "2           2  ...    0.0\n",
              "3           3  ...    0.0\n",
              "4           4  ...    0.0\n",
              "\n",
              "[5 rows x 5 columns]"
            ]
          },
          "metadata": {},
          "execution_count": 94
        }
      ]
    },
    {
      "cell_type": "code",
      "metadata": {
        "trusted": true,
        "colab": {
          "base_uri": "https://localhost:8080/"
        },
        "id": "dhYM_epTrsnq",
        "outputId": "6888fdcf-7153-44f5-c335-53876ccad90d"
      },
      "source": [
        "# get shape of the data\n",
        "df.shape"
      ],
      "execution_count": null,
      "outputs": [
        {
          "output_type": "execute_result",
          "data": {
            "text/plain": [
              "(10000, 5)"
            ]
          },
          "metadata": {},
          "execution_count": 95
        }
      ]
    },
    {
      "cell_type": "code",
      "metadata": {
        "trusted": true,
        "id": "gMW35VDMrsnq",
        "colab": {
          "base_uri": "https://localhost:8080/"
        },
        "outputId": "084cffa8-19e7-4eeb-864f-2cd3012740cb"
      },
      "source": [
        "# a sample email\n",
        "print(df.loc[1]['message'])"
      ],
      "execution_count": null,
      "outputs": [
        {
          "output_type": "stream",
          "name": "stdout",
          "text": [
            "Message-ID: <7027882.1075858635275.JavaMail.evans@thyme>\r\n",
            "Date: Wed, 24 Oct 2001 21:45:42 -0700 (PDT)\r\n",
            "From: book-news@amazon.com\r\n",
            "To: pallen@enron.com\r\n",
            "Subject: Save 30% on \"How People Grow : What the Bible Reveals About\r\n",
            " Personal Growth\" by Henry Cloud\r\n",
            "Mime-Version: 1.0\r\n",
            "Content-Type: text/plain; charset=us-ascii\r\n",
            "Content-Transfer-Encoding: quoted-printable\r\n",
            "X-From: \"Amazon.com\" <book-news@amazon.com>@ENRON\r\n",
            "X-To: pallen@enron.com\r\n",
            "X-cc: \r\n",
            "X-bcc: \r\n",
            "X-Folder: \\PALLEN (Non-Privileged)\\Allen, Phillip K.\\Deleted Items\r\n",
            "X-Origin: Allen-P\r\n",
            "X-FileName: PALLEN (Non-Privileged).pst\r\n",
            "\r\n",
            "\r\n",
            "[IMAGE] =09\r\n",
            "\r\n",
            "\r\n",
            "    Search   BooksAll Products  for         Dear Amazon.com Customer,  As s=\r\n",
            "omeone who has purchased books by Henry Cloud in the past, you might  like =\r\n",
            "to know that How People Grow : What the Bible Reveals About  Personal Growt=\r\n",
            "h is now available.  You can order your copy at a savings  of 30% by follow=\r\n",
            "ing the link below.      [IMAGE]  How  People Grow : What the Bible Reveals=\r\n",
            " About Personal Growth  List Price:  $19.99  Our Price: $13.99  You Save: $=\r\n",
            "6.00  (30%)    [IMAGE]   Amazon.com Whether you're hoping to achieve person=\r\n",
            "al and spiritual growth or are  looking for guidance to help others, you'll=\r\n",
            " find practical and proven  wisdom in Drs. Henry Cloud and John Townsend's =\r\n",
            "How People Grow: What the  Bible Reveals About Personal Growth. Starting wi=\r\n",
            "th the premise that all  growth is spiritual growth, the authors then expou=\r\n",
            "nd on the concept. Cloud  postulates that we spend too much time focusing o=\r\n",
            "n problems, rather than on  root issues. \"We are not just to help others 'f=\r\n",
            "eel better' or...  Read  more     [IMAGE]  [IMAGE]   [IMAGE]   [IMAGE]    B=\r\n",
            "uilding  a Church of Small Groups : A Place Where Nobody Stands Alone  by B=\r\n",
            "ill Donahue, Russ Robinson     Transitioning  by Dan Southerland     Soul  =\r\n",
            "Survivor: How My Faith Survived the Church  by Philip Yancey      Sign  up =\r\n",
            "for book recommendations by e-mail   See  other titles in Christian Books  =\r\n",
            "    Sincerely,   Katherine Koberg Editor Amazon.com   =09\r\n",
            "\r\n",
            "\r\n",
            " We hope you enjoyed receiving  this message. However, if you'd rather not =\r\n",
            "receive future e-mails of this  sort from Amazon.com, please visit your  Am=\r\n",
            "azon.com Account  page.  Under the Your Account Settings heading, click the=\r\n",
            " \"Update your  communication preferences\" link.    =09\r\n",
            "\r\n",
            "Please note that this message  was sent to the following e-mail address: pa=\r\n",
            "llen@enron.com\n"
          ]
        }
      ]
    },
    {
      "cell_type": "code",
      "metadata": {
        "trusted": true,
        "colab": {
          "base_uri": "https://localhost:8080/"
        },
        "id": "guKq6RcErsnr",
        "outputId": "c9e6666a-9a7e-4ad6-acca-dc304c44acc3"
      },
      "source": [
        "# transform the email into correct format\n",
        "message = df.loc[1]['message']\n",
        "#uses the new library 'email'\n",
        "e = email.message_from_string(message)\n",
        "\n",
        "e.items()"
      ],
      "execution_count": null,
      "outputs": [
        {
          "output_type": "execute_result",
          "data": {
            "text/plain": [
              "[('Message-ID', '<7027882.1075858635275.JavaMail.evans@thyme>'),\n",
              " ('Date', 'Wed, 24 Oct 2001 21:45:42 -0700 (PDT)'),\n",
              " ('From', 'book-news@amazon.com'),\n",
              " ('To', 'pallen@enron.com'),\n",
              " ('Subject',\n",
              "  'Save 30% on \"How People Grow : What the Bible Reveals About\\r\\n Personal Growth\" by Henry Cloud'),\n",
              " ('Mime-Version', '1.0'),\n",
              " ('Content-Type', 'text/plain; charset=us-ascii'),\n",
              " ('Content-Transfer-Encoding', 'quoted-printable'),\n",
              " ('X-From', '\"Amazon.com\" <book-news@amazon.com>@ENRON'),\n",
              " ('X-To', 'pallen@enron.com'),\n",
              " ('X-cc', ''),\n",
              " ('X-bcc', ''),\n",
              " ('X-Folder', '\\\\PALLEN (Non-Privileged)\\\\Allen, Phillip K.\\\\Deleted Items'),\n",
              " ('X-Origin', 'Allen-P'),\n",
              " ('X-FileName', 'PALLEN (Non-Privileged).pst')]"
            ]
          },
          "metadata": {},
          "execution_count": 97
        }
      ]
    },
    {
      "cell_type": "code",
      "metadata": {
        "trusted": true,
        "colab": {
          "base_uri": "https://localhost:8080/",
          "height": 36
        },
        "id": "r-I8Ivm_rsnr",
        "outputId": "3b9f853d-7ee9-4873-c60e-fb1be9f7da62"
      },
      "source": [
        "# get date\n",
        "e.get('Date')"
      ],
      "execution_count": null,
      "outputs": [
        {
          "output_type": "execute_result",
          "data": {
            "application/vnd.google.colaboratory.intrinsic+json": {
              "type": "string"
            },
            "text/plain": [
              "'Wed, 24 Oct 2001 21:45:42 -0700 (PDT)'"
            ]
          },
          "metadata": {},
          "execution_count": 98
        }
      ]
    },
    {
      "cell_type": "code",
      "metadata": {
        "trusted": true,
        "colab": {
          "base_uri": "https://localhost:8080/",
          "height": 145
        },
        "id": "cIpDy5Kdrsnr",
        "outputId": "7143c41e-38d0-4931-f95f-1dbc5f8b265e"
      },
      "source": [
        "# show message body\n",
        "e.get_payload()"
      ],
      "execution_count": null,
      "outputs": [
        {
          "output_type": "execute_result",
          "data": {
            "application/vnd.google.colaboratory.intrinsic+json": {
              "type": "string"
            },
            "text/plain": [
              "'\\r\\n[IMAGE] =09\\r\\n\\r\\n\\r\\n    Search   BooksAll Products  for         Dear Amazon.com Customer,  As s=\\r\\nomeone who has purchased books by Henry Cloud in the past, you might  like =\\r\\nto know that How People Grow : What the Bible Reveals About  Personal Growt=\\r\\nh is now available.  You can order your copy at a savings  of 30% by follow=\\r\\ning the link below.      [IMAGE]  How  People Grow : What the Bible Reveals=\\r\\n About Personal Growth  List Price:  $19.99  Our Price: $13.99  You Save: $=\\r\\n6.00  (30%)    [IMAGE]   Amazon.com Whether you\\'re hoping to achieve person=\\r\\nal and spiritual growth or are  looking for guidance to help others, you\\'ll=\\r\\n find practical and proven  wisdom in Drs. Henry Cloud and John Townsend\\'s =\\r\\nHow People Grow: What the  Bible Reveals About Personal Growth. Starting wi=\\r\\nth the premise that all  growth is spiritual growth, the authors then expou=\\r\\nnd on the concept. Cloud  postulates that we spend too much time focusing o=\\r\\nn problems, rather than on  root issues. \"We are not just to help others \\'f=\\r\\neel better\\' or...  Read  more     [IMAGE]  [IMAGE]   [IMAGE]   [IMAGE]    B=\\r\\nuilding  a Church of Small Groups : A Place Where Nobody Stands Alone  by B=\\r\\nill Donahue, Russ Robinson     Transitioning  by Dan Southerland     Soul  =\\r\\nSurvivor: How My Faith Survived the Church  by Philip Yancey      Sign  up =\\r\\nfor book recommendations by e-mail   See  other titles in Christian Books  =\\r\\n    Sincerely,   Katherine Koberg Editor Amazon.com   =09\\r\\n\\r\\n\\r\\n We hope you enjoyed receiving  this message. However, if you\\'d rather not =\\r\\nreceive future e-mails of this  sort from Amazon.com, please visit your  Am=\\r\\nazon.com Account  page.  Under the Your Account Settings heading, click the=\\r\\n \"Update your  communication preferences\" link.    =09\\r\\n\\r\\nPlease note that this message  was sent to the following e-mail address: pa=\\r\\nllen@enron.com'"
            ]
          },
          "metadata": {},
          "execution_count": 99
        }
      ]
    },
    {
      "cell_type": "markdown",
      "metadata": {
        "id": "cIjKLvpRrsnr"
      },
      "source": [
        "### Extract headers"
      ]
    },
    {
      "cell_type": "code",
      "metadata": {
        "trusted": true,
        "id": "RmxPTKTXrsns"
      },
      "source": [
        "# now we add those fields into our 'df' dataframe\n",
        "def get_field(field, messages):\n",
        "    column = []\n",
        "    for message in messages:\n",
        "        e = email.message_from_string(message)\n",
        "        column.append(e.get(field))\n",
        "    return column"
      ],
      "execution_count": null,
      "outputs": []
    },
    {
      "cell_type": "code",
      "metadata": {
        "trusted": true,
        "id": "N-JRAk-Mrsns",
        "colab": {
          "base_uri": "https://localhost:8080/",
          "height": 441
        },
        "outputId": "3da6edac-273c-4b43-bb65-98eaae62093e"
      },
      "source": [
        "df['date'] = get_field(\"Date\", df['message'])\n",
        "df['subject'] = get_field(\"Subject\", df['message'])\n",
        "df['X-Folder'] = get_field(\"X-Folder\", df['message'])\n",
        "df['X-From'] = get_field(\"X-From\", df['message'])\n",
        "df['X-To'] = get_field(\"X-To\", df['message'])\n",
        "df.head(3)"
      ],
      "execution_count": null,
      "outputs": [
        {
          "output_type": "execute_result",
          "data": {
            "text/html": [
              "<div>\n",
              "<style scoped>\n",
              "    .dataframe tbody tr th:only-of-type {\n",
              "        vertical-align: middle;\n",
              "    }\n",
              "\n",
              "    .dataframe tbody tr th {\n",
              "        vertical-align: top;\n",
              "    }\n",
              "\n",
              "    .dataframe thead th {\n",
              "        text-align: right;\n",
              "    }\n",
              "</style>\n",
              "<table border=\"1\" class=\"dataframe\">\n",
              "  <thead>\n",
              "    <tr style=\"text-align: right;\">\n",
              "      <th></th>\n",
              "      <th>Unnamed: 0</th>\n",
              "      <th>Unnamed</th>\n",
              "      <th>file</th>\n",
              "      <th>message</th>\n",
              "      <th>label</th>\n",
              "      <th>date</th>\n",
              "      <th>subject</th>\n",
              "      <th>X-Folder</th>\n",
              "      <th>X-From</th>\n",
              "      <th>X-To</th>\n",
              "    </tr>\n",
              "  </thead>\n",
              "  <tbody>\n",
              "    <tr>\n",
              "      <th>0</th>\n",
              "      <td>0</td>\n",
              "      <td>1</td>\n",
              "      <td>badeer-r/discussion_threads/212.</td>\n",
              "      <td>Message-ID: &lt;13581696.1075863601488.JavaMail.e...</td>\n",
              "      <td>0.0</td>\n",
              "      <td>Thu, 24 Aug 2000 09:55:00 -0700 (PDT)</td>\n",
              "      <td>Total Transfer Capabilities</td>\n",
              "      <td>\\Robert_Badeer_Aug2000\\Notes Folders\\Discussio...</td>\n",
              "      <td>\"Neeley, Myrna\" &lt;MNeeley@caiso.com&gt;</td>\n",
              "      <td>Market Status &lt;MarketStatus@caiso.com&gt;, PX Rea...</td>\n",
              "    </tr>\n",
              "    <tr>\n",
              "      <th>1</th>\n",
              "      <td>1</td>\n",
              "      <td>2</td>\n",
              "      <td>allen-p/deleted_items/189.</td>\n",
              "      <td>Message-ID: &lt;7027882.1075858635275.JavaMail.ev...</td>\n",
              "      <td>0.0</td>\n",
              "      <td>Wed, 24 Oct 2001 21:45:42 -0700 (PDT)</td>\n",
              "      <td>Save 30% on \"How People Grow : What the Bible ...</td>\n",
              "      <td>\\PALLEN (Non-Privileged)\\Allen, Phillip K.\\Del...</td>\n",
              "      <td>\"Amazon.com\" &lt;book-news@amazon.com&gt;@ENRON</td>\n",
              "      <td>pallen@enron.com</td>\n",
              "    </tr>\n",
              "    <tr>\n",
              "      <th>2</th>\n",
              "      <td>2</td>\n",
              "      <td>3</td>\n",
              "      <td>arnold-j/all_documents/331.</td>\n",
              "      <td>Message-ID: &lt;23580308.1075857574590.JavaMail.e...</td>\n",
              "      <td>0.0</td>\n",
              "      <td>Wed, 4 Oct 2000 01:23:00 -0700 (PDT)</td>\n",
              "      <td>Re: ABN</td>\n",
              "      <td>\\John_Arnold_Dec2000\\Notes Folders\\All documents</td>\n",
              "      <td>John Arnold</td>\n",
              "      <td>Sarah Wesner</td>\n",
              "    </tr>\n",
              "  </tbody>\n",
              "</table>\n",
              "</div>"
            ],
            "text/plain": [
              "   Unnamed: 0  ...                                               X-To\n",
              "0           0  ...  Market Status <MarketStatus@caiso.com>, PX Rea...\n",
              "1           1  ...                                   pallen@enron.com\n",
              "2           2  ...                                       Sarah Wesner\n",
              "\n",
              "[3 rows x 10 columns]"
            ]
          },
          "metadata": {},
          "execution_count": 101
        }
      ]
    },
    {
      "cell_type": "markdown",
      "metadata": {
        "id": "H3ILj2Tarsns"
      },
      "source": [
        "### Extract Message Body"
      ]
    },
    {
      "cell_type": "code",
      "metadata": {
        "trusted": true,
        "colab": {
          "base_uri": "https://localhost:8080/",
          "height": 441
        },
        "id": "9Lfu44LHrsnt",
        "outputId": "aa321ed5-a42f-411e-f42f-99851d0c4d86"
      },
      "source": [
        "def body(messages):\n",
        "    column = []\n",
        "    for message in messages:\n",
        "        e = email.message_from_string(message)\n",
        "        column.append(e.get_payload())\n",
        "    return column\n",
        "\n",
        "df['body'] = body(df['message'])\n",
        "df.head(3)"
      ],
      "execution_count": null,
      "outputs": [
        {
          "output_type": "execute_result",
          "data": {
            "text/html": [
              "<div>\n",
              "<style scoped>\n",
              "    .dataframe tbody tr th:only-of-type {\n",
              "        vertical-align: middle;\n",
              "    }\n",
              "\n",
              "    .dataframe tbody tr th {\n",
              "        vertical-align: top;\n",
              "    }\n",
              "\n",
              "    .dataframe thead th {\n",
              "        text-align: right;\n",
              "    }\n",
              "</style>\n",
              "<table border=\"1\" class=\"dataframe\">\n",
              "  <thead>\n",
              "    <tr style=\"text-align: right;\">\n",
              "      <th></th>\n",
              "      <th>Unnamed: 0</th>\n",
              "      <th>Unnamed</th>\n",
              "      <th>file</th>\n",
              "      <th>message</th>\n",
              "      <th>label</th>\n",
              "      <th>date</th>\n",
              "      <th>subject</th>\n",
              "      <th>X-Folder</th>\n",
              "      <th>X-From</th>\n",
              "      <th>X-To</th>\n",
              "      <th>body</th>\n",
              "    </tr>\n",
              "  </thead>\n",
              "  <tbody>\n",
              "    <tr>\n",
              "      <th>0</th>\n",
              "      <td>0</td>\n",
              "      <td>1</td>\n",
              "      <td>badeer-r/discussion_threads/212.</td>\n",
              "      <td>Message-ID: &lt;13581696.1075863601488.JavaMail.e...</td>\n",
              "      <td>0.0</td>\n",
              "      <td>Thu, 24 Aug 2000 09:55:00 -0700 (PDT)</td>\n",
              "      <td>Total Transfer Capabilities</td>\n",
              "      <td>\\Robert_Badeer_Aug2000\\Notes Folders\\Discussio...</td>\n",
              "      <td>\"Neeley, Myrna\" &lt;MNeeley@caiso.com&gt;</td>\n",
              "      <td>Market Status &lt;MarketStatus@caiso.com&gt;, PX Rea...</td>\n",
              "      <td>Attached are the Total Transfer Capabilities (...</td>\n",
              "    </tr>\n",
              "    <tr>\n",
              "      <th>1</th>\n",
              "      <td>1</td>\n",
              "      <td>2</td>\n",
              "      <td>allen-p/deleted_items/189.</td>\n",
              "      <td>Message-ID: &lt;7027882.1075858635275.JavaMail.ev...</td>\n",
              "      <td>0.0</td>\n",
              "      <td>Wed, 24 Oct 2001 21:45:42 -0700 (PDT)</td>\n",
              "      <td>Save 30% on \"How People Grow : What the Bible ...</td>\n",
              "      <td>\\PALLEN (Non-Privileged)\\Allen, Phillip K.\\Del...</td>\n",
              "      <td>\"Amazon.com\" &lt;book-news@amazon.com&gt;@ENRON</td>\n",
              "      <td>pallen@enron.com</td>\n",
              "      <td>\\r\\n[IMAGE] =09\\r\\n\\r\\n\\r\\n    Search   BooksA...</td>\n",
              "    </tr>\n",
              "    <tr>\n",
              "      <th>2</th>\n",
              "      <td>2</td>\n",
              "      <td>3</td>\n",
              "      <td>arnold-j/all_documents/331.</td>\n",
              "      <td>Message-ID: &lt;23580308.1075857574590.JavaMail.e...</td>\n",
              "      <td>0.0</td>\n",
              "      <td>Wed, 4 Oct 2000 01:23:00 -0700 (PDT)</td>\n",
              "      <td>Re: ABN</td>\n",
              "      <td>\\John_Arnold_Dec2000\\Notes Folders\\All documents</td>\n",
              "      <td>John Arnold</td>\n",
              "      <td>Sarah Wesner</td>\n",
              "      <td>Credit lines are like bandwidth.  Create the c...</td>\n",
              "    </tr>\n",
              "  </tbody>\n",
              "</table>\n",
              "</div>"
            ],
            "text/plain": [
              "   Unnamed: 0  ...                                               body\n",
              "0           0  ...  Attached are the Total Transfer Capabilities (...\n",
              "1           1  ...  \\r\\n[IMAGE] =09\\r\\n\\r\\n\\r\\n    Search   BooksA...\n",
              "2           2  ...  Credit lines are like bandwidth.  Create the c...\n",
              "\n",
              "[3 rows x 11 columns]"
            ]
          },
          "metadata": {},
          "execution_count": 102
        }
      ]
    },
    {
      "cell_type": "markdown",
      "metadata": {
        "id": "7ZmG7MNMrsnt"
      },
      "source": [
        "### Employee Names"
      ]
    },
    {
      "cell_type": "code",
      "metadata": {
        "trusted": true,
        "colab": {
          "base_uri": "https://localhost:8080/"
        },
        "id": "jDDeg6jsrsnt",
        "outputId": "ef7d0cb1-3725-4b51-83b4-0232d50aa149"
      },
      "source": [
        "df['file'][:10]"
      ],
      "execution_count": null,
      "outputs": [
        {
          "output_type": "execute_result",
          "data": {
            "text/plain": [
              "0    badeer-r/discussion_threads/212.\n",
              "1          allen-p/deleted_items/189.\n",
              "2         arnold-j/all_documents/331.\n",
              "3          allen-p/all_documents/260.\n",
              "4         arnold-j/deleted_items/702.\n",
              "5            arnold-j/_sent_mail/478.\n",
              "6         arnold-j/all_documents/168.\n",
              "7            arnold-j/sent_items/300.\n",
              "8          allen-p/deleted_items/381.\n",
              "9          allen-p/deleted_items/353.\n",
              "Name: file, dtype: object"
            ]
          },
          "metadata": {},
          "execution_count": 103
        }
      ]
    },
    {
      "cell_type": "code",
      "metadata": {
        "trusted": true,
        "colab": {
          "base_uri": "https://localhost:8080/",
          "height": 441
        },
        "id": "rgITl5XDrsnt",
        "outputId": "133e1a7a-d9b1-4e10-acdb-37f4a13a4671"
      },
      "source": [
        "def employee(file):\n",
        "    column = []\n",
        "    for string in file:\n",
        "        column.append(string.split(\"/\")[0])\n",
        "    return column\n",
        "\n",
        "df['employee'] = employee(df['file'])\n",
        "df.head(3)"
      ],
      "execution_count": null,
      "outputs": [
        {
          "output_type": "execute_result",
          "data": {
            "text/html": [
              "<div>\n",
              "<style scoped>\n",
              "    .dataframe tbody tr th:only-of-type {\n",
              "        vertical-align: middle;\n",
              "    }\n",
              "\n",
              "    .dataframe tbody tr th {\n",
              "        vertical-align: top;\n",
              "    }\n",
              "\n",
              "    .dataframe thead th {\n",
              "        text-align: right;\n",
              "    }\n",
              "</style>\n",
              "<table border=\"1\" class=\"dataframe\">\n",
              "  <thead>\n",
              "    <tr style=\"text-align: right;\">\n",
              "      <th></th>\n",
              "      <th>Unnamed: 0</th>\n",
              "      <th>Unnamed</th>\n",
              "      <th>file</th>\n",
              "      <th>message</th>\n",
              "      <th>label</th>\n",
              "      <th>date</th>\n",
              "      <th>subject</th>\n",
              "      <th>X-Folder</th>\n",
              "      <th>X-From</th>\n",
              "      <th>X-To</th>\n",
              "      <th>body</th>\n",
              "      <th>employee</th>\n",
              "    </tr>\n",
              "  </thead>\n",
              "  <tbody>\n",
              "    <tr>\n",
              "      <th>0</th>\n",
              "      <td>0</td>\n",
              "      <td>1</td>\n",
              "      <td>badeer-r/discussion_threads/212.</td>\n",
              "      <td>Message-ID: &lt;13581696.1075863601488.JavaMail.e...</td>\n",
              "      <td>0.0</td>\n",
              "      <td>Thu, 24 Aug 2000 09:55:00 -0700 (PDT)</td>\n",
              "      <td>Total Transfer Capabilities</td>\n",
              "      <td>\\Robert_Badeer_Aug2000\\Notes Folders\\Discussio...</td>\n",
              "      <td>\"Neeley, Myrna\" &lt;MNeeley@caiso.com&gt;</td>\n",
              "      <td>Market Status &lt;MarketStatus@caiso.com&gt;, PX Rea...</td>\n",
              "      <td>Attached are the Total Transfer Capabilities (...</td>\n",
              "      <td>badeer-r</td>\n",
              "    </tr>\n",
              "    <tr>\n",
              "      <th>1</th>\n",
              "      <td>1</td>\n",
              "      <td>2</td>\n",
              "      <td>allen-p/deleted_items/189.</td>\n",
              "      <td>Message-ID: &lt;7027882.1075858635275.JavaMail.ev...</td>\n",
              "      <td>0.0</td>\n",
              "      <td>Wed, 24 Oct 2001 21:45:42 -0700 (PDT)</td>\n",
              "      <td>Save 30% on \"How People Grow : What the Bible ...</td>\n",
              "      <td>\\PALLEN (Non-Privileged)\\Allen, Phillip K.\\Del...</td>\n",
              "      <td>\"Amazon.com\" &lt;book-news@amazon.com&gt;@ENRON</td>\n",
              "      <td>pallen@enron.com</td>\n",
              "      <td>\\r\\n[IMAGE] =09\\r\\n\\r\\n\\r\\n    Search   BooksA...</td>\n",
              "      <td>allen-p</td>\n",
              "    </tr>\n",
              "    <tr>\n",
              "      <th>2</th>\n",
              "      <td>2</td>\n",
              "      <td>3</td>\n",
              "      <td>arnold-j/all_documents/331.</td>\n",
              "      <td>Message-ID: &lt;23580308.1075857574590.JavaMail.e...</td>\n",
              "      <td>0.0</td>\n",
              "      <td>Wed, 4 Oct 2000 01:23:00 -0700 (PDT)</td>\n",
              "      <td>Re: ABN</td>\n",
              "      <td>\\John_Arnold_Dec2000\\Notes Folders\\All documents</td>\n",
              "      <td>John Arnold</td>\n",
              "      <td>Sarah Wesner</td>\n",
              "      <td>Credit lines are like bandwidth.  Create the c...</td>\n",
              "      <td>arnold-j</td>\n",
              "    </tr>\n",
              "  </tbody>\n",
              "</table>\n",
              "</div>"
            ],
            "text/plain": [
              "   Unnamed: 0  ...  employee\n",
              "0           0  ...  badeer-r\n",
              "1           1  ...   allen-p\n",
              "2           2  ...  arnold-j\n",
              "\n",
              "[3 rows x 12 columns]"
            ]
          },
          "metadata": {},
          "execution_count": 104
        }
      ]
    },
    {
      "cell_type": "markdown",
      "metadata": {
        "id": "HZ8ow0hcrsnu"
      },
      "source": [
        "### Look into X-Folder"
      ]
    },
    {
      "cell_type": "code",
      "metadata": {
        "trusted": true,
        "colab": {
          "base_uri": "https://localhost:8080/"
        },
        "id": "P-ODM9Qyrsnu",
        "outputId": "a5ad8edd-8d1b-473c-cf92-a77c5d537083"
      },
      "source": [
        "print(\"number of folders: \", df.shape[0])\n",
        "print(\"number of unique folders: \", df['X-Folder'].unique().shape[0])"
      ],
      "execution_count": null,
      "outputs": [
        {
          "output_type": "stream",
          "name": "stdout",
          "text": [
            "number of folders:  10000\n",
            "number of unique folders:  125\n"
          ]
        }
      ]
    },
    {
      "cell_type": "code",
      "metadata": {
        "trusted": true,
        "colab": {
          "base_uri": "https://localhost:8080/"
        },
        "id": "5_yrUqsNrsnu",
        "outputId": "5e5aef61-225f-4689-a433-de0394258b5d"
      },
      "source": [
        "unique_emails = pd.DataFrame(df['X-Folder'].value_counts())\n",
        "unique_emails.reset_index(inplace=True)\n",
        "\n",
        "\n",
        "unique_emails.columns = ['folder_name', 'count']\n",
        "# top 20 folders\n",
        "unique_emails.iloc[:20,:]"
      ],
      "execution_count": null,
      "outputs": [
        {
          "output_type": "execute_result",
          "data": {
            "text/html": [
              "<div>\n",
              "<style scoped>\n",
              "    .dataframe tbody tr th:only-of-type {\n",
              "        vertical-align: middle;\n",
              "    }\n",
              "\n",
              "    .dataframe tbody tr th {\n",
              "        vertical-align: top;\n",
              "    }\n",
              "\n",
              "    .dataframe thead th {\n",
              "        text-align: right;\n",
              "    }\n",
              "</style>\n",
              "<table border=\"1\" class=\"dataframe\">\n",
              "  <thead>\n",
              "    <tr style=\"text-align: right;\">\n",
              "      <th></th>\n",
              "      <th>folder_name</th>\n",
              "      <th>count</th>\n",
              "    </tr>\n",
              "  </thead>\n",
              "  <tbody>\n",
              "    <tr>\n",
              "      <th>0</th>\n",
              "      <td>\\JARNOLD (Non-Privileged)\\Arnold, John\\Deleted...</td>\n",
              "      <td>688</td>\n",
              "    </tr>\n",
              "    <tr>\n",
              "      <th>1</th>\n",
              "      <td>\\JARNOLD (Non-Privileged)\\Arnold, John\\Sent Items</td>\n",
              "      <td>679</td>\n",
              "    </tr>\n",
              "    <tr>\n",
              "      <th>2</th>\n",
              "      <td>\\John_Arnold_Jun2001\\Notes Folders\\All documents</td>\n",
              "      <td>464</td>\n",
              "    </tr>\n",
              "    <tr>\n",
              "      <th>3</th>\n",
              "      <td>\\John_Arnold_Dec2000\\Notes Folders\\All documents</td>\n",
              "      <td>438</td>\n",
              "    </tr>\n",
              "    <tr>\n",
              "      <th>4</th>\n",
              "      <td>\\John_Arnold_Jun2001\\Notes Folders\\'sent mail</td>\n",
              "      <td>420</td>\n",
              "    </tr>\n",
              "    <tr>\n",
              "      <th>5</th>\n",
              "      <td>\\John_Arnold_Jun2001\\Notes Folders\\Sent</td>\n",
              "      <td>420</td>\n",
              "    </tr>\n",
              "    <tr>\n",
              "      <th>6</th>\n",
              "      <td>\\John_Arnold_Dec2000\\Notes Folders\\'sent mail</td>\n",
              "      <td>394</td>\n",
              "    </tr>\n",
              "    <tr>\n",
              "      <th>7</th>\n",
              "      <td>\\John_Arnold_Dec2000\\Notes Folders\\Sent</td>\n",
              "      <td>394</td>\n",
              "    </tr>\n",
              "    <tr>\n",
              "      <th>8</th>\n",
              "      <td>\\Phillip_Allen_Dec2000\\Notes Folders\\All docum...</td>\n",
              "      <td>353</td>\n",
              "    </tr>\n",
              "    <tr>\n",
              "      <th>9</th>\n",
              "      <td>\\Susan_Bailey_Mar2002\\Bailey, Susan\\Deleted Items</td>\n",
              "      <td>348</td>\n",
              "    </tr>\n",
              "    <tr>\n",
              "      <th>10</th>\n",
              "      <td>\\PALLEN (Non-Privileged)\\Allen, Phillip K.\\Sen...</td>\n",
              "      <td>310</td>\n",
              "    </tr>\n",
              "    <tr>\n",
              "      <th>11</th>\n",
              "      <td>\\Phillip_Allen_Dec2000\\Notes Folders\\Sent</td>\n",
              "      <td>301</td>\n",
              "    </tr>\n",
              "    <tr>\n",
              "      <th>12</th>\n",
              "      <td>\\Phillip_Allen_Dec2000\\Notes Folders\\'sent mail</td>\n",
              "      <td>301</td>\n",
              "    </tr>\n",
              "    <tr>\n",
              "      <th>13</th>\n",
              "      <td>\\Robert_Badeer_Aug2000\\Notes Folders\\All docum...</td>\n",
              "      <td>299</td>\n",
              "    </tr>\n",
              "    <tr>\n",
              "      <th>14</th>\n",
              "      <td>\\PALLEN (Non-Privileged)\\Allen, Phillip K.\\Del...</td>\n",
              "      <td>296</td>\n",
              "    </tr>\n",
              "    <tr>\n",
              "      <th>15</th>\n",
              "      <td>\\Robert_Badeer_Aug2000\\Notes Folders\\Discussio...</td>\n",
              "      <td>277</td>\n",
              "    </tr>\n",
              "    <tr>\n",
              "      <th>16</th>\n",
              "      <td>\\Phillip_Allen_June2001\\Notes Folders\\All docu...</td>\n",
              "      <td>275</td>\n",
              "    </tr>\n",
              "    <tr>\n",
              "      <th>17</th>\n",
              "      <td>\\Phillip_Allen_June2001\\Notes Folders\\Sent</td>\n",
              "      <td>261</td>\n",
              "    </tr>\n",
              "    <tr>\n",
              "      <th>18</th>\n",
              "      <td>\\Phillip_Allen_June2001\\Notes Folders\\'sent mail</td>\n",
              "      <td>254</td>\n",
              "    </tr>\n",
              "    <tr>\n",
              "      <th>19</th>\n",
              "      <td>\\Phillip_Allen_Dec2000\\Notes Folders\\Discussio...</td>\n",
              "      <td>230</td>\n",
              "    </tr>\n",
              "  </tbody>\n",
              "</table>\n",
              "</div>"
            ],
            "text/plain": [
              "                                          folder_name  count\n",
              "0   \\JARNOLD (Non-Privileged)\\Arnold, John\\Deleted...    688\n",
              "1   \\JARNOLD (Non-Privileged)\\Arnold, John\\Sent Items    679\n",
              "2    \\John_Arnold_Jun2001\\Notes Folders\\All documents    464\n",
              "3    \\John_Arnold_Dec2000\\Notes Folders\\All documents    438\n",
              "4       \\John_Arnold_Jun2001\\Notes Folders\\'sent mail    420\n",
              "5             \\John_Arnold_Jun2001\\Notes Folders\\Sent    420\n",
              "6       \\John_Arnold_Dec2000\\Notes Folders\\'sent mail    394\n",
              "7             \\John_Arnold_Dec2000\\Notes Folders\\Sent    394\n",
              "8   \\Phillip_Allen_Dec2000\\Notes Folders\\All docum...    353\n",
              "9   \\Susan_Bailey_Mar2002\\Bailey, Susan\\Deleted Items    348\n",
              "10  \\PALLEN (Non-Privileged)\\Allen, Phillip K.\\Sen...    310\n",
              "11          \\Phillip_Allen_Dec2000\\Notes Folders\\Sent    301\n",
              "12    \\Phillip_Allen_Dec2000\\Notes Folders\\'sent mail    301\n",
              "13  \\Robert_Badeer_Aug2000\\Notes Folders\\All docum...    299\n",
              "14  \\PALLEN (Non-Privileged)\\Allen, Phillip K.\\Del...    296\n",
              "15  \\Robert_Badeer_Aug2000\\Notes Folders\\Discussio...    277\n",
              "16  \\Phillip_Allen_June2001\\Notes Folders\\All docu...    275\n",
              "17         \\Phillip_Allen_June2001\\Notes Folders\\Sent    261\n",
              "18   \\Phillip_Allen_June2001\\Notes Folders\\'sent mail    254\n",
              "19  \\Phillip_Allen_Dec2000\\Notes Folders\\Discussio...    230"
            ]
          },
          "metadata": {},
          "execution_count": 106
        }
      ]
    },
    {
      "cell_type": "markdown",
      "metadata": {
        "id": "5cX7lBoDrsnv"
      },
      "source": [
        "### Visualize top 20 folders"
      ]
    },
    {
      "cell_type": "code",
      "metadata": {
        "trusted": true,
        "colab": {
          "base_uri": "https://localhost:8080/",
          "height": 404
        },
        "id": "PwXLfKEXrsnv",
        "outputId": "2314152d-3d8e-4a32-d49f-4be7bf28663e"
      },
      "source": [
        "plt.figure(figsize=(10,6))\n",
        "sns.barplot(x='count', y='folder_name', data=unique_emails.iloc[:20, :], palette=\"Blues_d\")\n",
        "plt.title(\"Top 20 folders\")\n",
        "plt.xlabel(\"Count\")\n",
        "plt.ylabel(\"Folder_Name\")\n",
        "plt.show()"
      ],
      "execution_count": null,
      "outputs": [
        {
          "output_type": "display_data",
          "data": {
            "image/png": "[encoded data removed]",
            "text/plain": [
              "<Figure size 720x432 with 1 Axes>"
            ]
          },
          "metadata": {
            "needs_background": "light"
          }
        }
      ]
    },
    {
      "cell_type": "markdown",
      "metadata": {
        "id": "jrIK4Eqorsnv"
      },
      "source": [
        "**Let's see top 20 highest email sender employee**"
      ]
    },
    {
      "cell_type": "code",
      "metadata": {
        "trusted": true,
        "colab": {
          "base_uri": "https://localhost:8080/",
          "height": 237
        },
        "id": "eKcM9zkxrsnv",
        "outputId": "896ac5b5-f675-45e5-b05a-c8118e744cf0"
      },
      "source": [
        "top_20 = pd.DataFrame(df['employee'].value_counts()[:20])\n",
        "top_20.reset_index(inplace=True)\n",
        "top_20.columns = [\"Employee_name\", \"Counts\"]\n",
        "top_20"
      ],
      "execution_count": null,
      "outputs": [
        {
          "output_type": "execute_result",
          "data": {
            "text/html": [
              "<div>\n",
              "<style scoped>\n",
              "    .dataframe tbody tr th:only-of-type {\n",
              "        vertical-align: middle;\n",
              "    }\n",
              "\n",
              "    .dataframe tbody tr th {\n",
              "        vertical-align: top;\n",
              "    }\n",
              "\n",
              "    .dataframe thead th {\n",
              "        text-align: right;\n",
              "    }\n",
              "</style>\n",
              "<table border=\"1\" class=\"dataframe\">\n",
              "  <thead>\n",
              "    <tr style=\"text-align: right;\">\n",
              "      <th></th>\n",
              "      <th>Employee_name</th>\n",
              "      <th>Counts</th>\n",
              "    </tr>\n",
              "  </thead>\n",
              "  <tbody>\n",
              "    <tr>\n",
              "      <th>0</th>\n",
              "      <td>arnold-j</td>\n",
              "      <td>4898</td>\n",
              "    </tr>\n",
              "    <tr>\n",
              "      <th>1</th>\n",
              "      <td>allen-p</td>\n",
              "      <td>3034</td>\n",
              "    </tr>\n",
              "    <tr>\n",
              "      <th>2</th>\n",
              "      <td>badeer-r</td>\n",
              "      <td>877</td>\n",
              "    </tr>\n",
              "    <tr>\n",
              "      <th>3</th>\n",
              "      <td>arora-h</td>\n",
              "      <td>654</td>\n",
              "    </tr>\n",
              "    <tr>\n",
              "      <th>4</th>\n",
              "      <td>bailey-s</td>\n",
              "      <td>478</td>\n",
              "    </tr>\n",
              "    <tr>\n",
              "      <th>5</th>\n",
              "      <td>bass-e</td>\n",
              "      <td>59</td>\n",
              "    </tr>\n",
              "  </tbody>\n",
              "</table>\n",
              "</div>"
            ],
            "text/plain": [
              "  Employee_name  Counts\n",
              "0      arnold-j    4898\n",
              "1       allen-p    3034\n",
              "2      badeer-r     877\n",
              "3       arora-h     654\n",
              "4      bailey-s     478\n",
              "5        bass-e      59"
            ]
          },
          "metadata": {},
          "execution_count": 108
        }
      ]
    },
    {
      "cell_type": "markdown",
      "metadata": {
        "id": "C3_yk1K4rsnw"
      },
      "source": [
        "**Visualize top 20 highest email sender employees**"
      ]
    },
    {
      "cell_type": "code",
      "metadata": {
        "trusted": true,
        "colab": {
          "base_uri": "https://localhost:8080/",
          "height": 513
        },
        "id": "jtNKD1mirsnw",
        "outputId": "c527daac-b2b9-428c-b7c8-db36a83d9253"
      },
      "source": [
        "plt.figure(figsize=(10,8))\n",
        "\n",
        "sns.barplot(y=\"Employee_name\", x=\"Counts\", data=top_20, palette=\"Blues_d\")\n",
        "plt.title(\"Top 20 highest email sender employee\")\n",
        "plt.xlabel(\"Count\")\n",
        "plt.ylabel(\"Employee_name\")\n",
        "plt.show()"
      ],
      "execution_count": null,
      "outputs": [
        {
          "output_type": "display_data",
          "data": {
            "image/png": "[encoded data removed]",
            "text/plain": [
              "<Figure size 720x576 with 1 Axes>"
            ]
          },
          "metadata": {
            "needs_background": "light"
          }
        }
      ]
    },
    {
      "cell_type": "markdown",
      "metadata": {
        "id": "HO9TJGtirsnw"
      },
      "source": [
        "## Data Cleaning and Transformation"
      ]
    },
    {
      "cell_type": "markdown",
      "metadata": {
        "id": "WOUjrIxfrsnw"
      },
      "source": [
        "**date : column**"
      ]
    },
    {
      "cell_type": "code",
      "metadata": {
        "trusted": true,
        "colab": {
          "base_uri": "https://localhost:8080/"
        },
        "id": "5sMRpLRtrsnw",
        "outputId": "c64b5a46-8568-470f-8d40-c66b19556b90"
      },
      "source": [
        "import datetime\n",
        "from dateutil import parser\n",
        "\n",
        "# this is sample example\n",
        "x = parser.parse(\"Fri, 4 May 2001 13:51:00 -0700 (PDT)\")\n",
        "print(x.strftime(\"%d-%m-%Y %H:%M:%S\"))"
      ],
      "execution_count": null,
      "outputs": [
        {
          "output_type": "stream",
          "name": "stdout",
          "text": [
            "04-05-2001 13:51:00\n"
          ]
        }
      ]
    },
    {
      "cell_type": "code",
      "metadata": {
        "trusted": true,
        "colab": {
          "base_uri": "https://localhost:8080/",
          "height": 305
        },
        "id": "j-rx2rL0rsnx",
        "outputId": "d2bbe146-0208-4412-b51b-4d990d588a45"
      },
      "source": [
        "def change_type(dates):\n",
        "    column = []\n",
        "    \n",
        "    for date in dates:\n",
        "        column.append(parser.parse(date).strftime(\"%d-%m-%Y %H:%M:%S\"))\n",
        "    return column\n",
        "\n",
        "df['date'] = change_type(df['date'])\n",
        "df.head(2)\n"
      ],
      "execution_count": null,
      "outputs": [
        {
          "output_type": "execute_result",
          "data": {
            "text/html": [
              "<div>\n",
              "<style scoped>\n",
              "    .dataframe tbody tr th:only-of-type {\n",
              "        vertical-align: middle;\n",
              "    }\n",
              "\n",
              "    .dataframe tbody tr th {\n",
              "        vertical-align: top;\n",
              "    }\n",
              "\n",
              "    .dataframe thead th {\n",
              "        text-align: right;\n",
              "    }\n",
              "</style>\n",
              "<table border=\"1\" class=\"dataframe\">\n",
              "  <thead>\n",
              "    <tr style=\"text-align: right;\">\n",
              "      <th></th>\n",
              "      <th>Unnamed: 0</th>\n",
              "      <th>Unnamed</th>\n",
              "      <th>file</th>\n",
              "      <th>message</th>\n",
              "      <th>label</th>\n",
              "      <th>date</th>\n",
              "      <th>subject</th>\n",
              "      <th>X-Folder</th>\n",
              "      <th>X-From</th>\n",
              "      <th>X-To</th>\n",
              "      <th>body</th>\n",
              "      <th>employee</th>\n",
              "    </tr>\n",
              "  </thead>\n",
              "  <tbody>\n",
              "    <tr>\n",
              "      <th>0</th>\n",
              "      <td>0</td>\n",
              "      <td>1</td>\n",
              "      <td>badeer-r/discussion_threads/212.</td>\n",
              "      <td>Message-ID: &lt;13581696.1075863601488.JavaMail.e...</td>\n",
              "      <td>0.0</td>\n",
              "      <td>24-08-2000 09:55:00</td>\n",
              "      <td>Total Transfer Capabilities</td>\n",
              "      <td>\\Robert_Badeer_Aug2000\\Notes Folders\\Discussio...</td>\n",
              "      <td>\"Neeley, Myrna\" &lt;MNeeley@caiso.com&gt;</td>\n",
              "      <td>Market Status &lt;MarketStatus@caiso.com&gt;, PX Rea...</td>\n",
              "      <td>Attached are the Total Transfer Capabilities (...</td>\n",
              "      <td>badeer-r</td>\n",
              "    </tr>\n",
              "    <tr>\n",
              "      <th>1</th>\n",
              "      <td>1</td>\n",
              "      <td>2</td>\n",
              "      <td>allen-p/deleted_items/189.</td>\n",
              "      <td>Message-ID: &lt;7027882.1075858635275.JavaMail.ev...</td>\n",
              "      <td>0.0</td>\n",
              "      <td>24-10-2001 21:45:42</td>\n",
              "      <td>Save 30% on \"How People Grow : What the Bible ...</td>\n",
              "      <td>\\PALLEN (Non-Privileged)\\Allen, Phillip K.\\Del...</td>\n",
              "      <td>\"Amazon.com\" &lt;book-news@amazon.com&gt;@ENRON</td>\n",
              "      <td>pallen@enron.com</td>\n",
              "      <td>\\r\\n[IMAGE] =09\\r\\n\\r\\n\\r\\n    Search   BooksA...</td>\n",
              "      <td>allen-p</td>\n",
              "    </tr>\n",
              "  </tbody>\n",
              "</table>\n",
              "</div>"
            ],
            "text/plain": [
              "   Unnamed: 0  ...  employee\n",
              "0           0  ...  badeer-r\n",
              "1           1  ...   allen-p\n",
              "\n",
              "[2 rows x 12 columns]"
            ]
          },
          "metadata": {},
          "execution_count": 111
        }
      ]
    },
    {
      "cell_type": "markdown",
      "metadata": {
        "id": "Cm7FRbzOrsnx"
      },
      "source": [
        "**Column : X-Folder**"
      ]
    },
    {
      "cell_type": "code",
      "metadata": {
        "trusted": true,
        "colab": {
          "base_uri": "https://localhost:8080/",
          "height": 54
        },
        "id": "TCK-yJIwrsnx",
        "outputId": "5f94f557-0112-43e1-f157-c721e268223a"
      },
      "source": [
        "print(df['X-Folder'][0])\n",
        "\n",
        "# we only want last folder name\n",
        "df['X-Folder'][0].split(\"\\\\\")[-1]"
      ],
      "execution_count": null,
      "outputs": [
        {
          "output_type": "stream",
          "name": "stdout",
          "text": [
            "\\Robert_Badeer_Aug2000\\Notes Folders\\Discussion threads\n"
          ]
        },
        {
          "output_type": "execute_result",
          "data": {
            "application/vnd.google.colaboratory.intrinsic+json": {
              "type": "string"
            },
            "text/plain": [
              "'Discussion threads'"
            ]
          },
          "metadata": {},
          "execution_count": 112
        }
      ]
    },
    {
      "cell_type": "code",
      "metadata": {
        "trusted": true,
        "colab": {
          "base_uri": "https://localhost:8080/",
          "height": 305
        },
        "id": "MRcPUkQxrsnx",
        "outputId": "9f189718-2b13-4ee2-b612-9c569fa6e228"
      },
      "source": [
        "def preprocess_folder(folders):\n",
        "    column = []\n",
        "    for folder in folders:\n",
        "        if (folder is None or folder == \"\"):\n",
        "            column.append(np.nan)\n",
        "        else:\n",
        "            column.append(folder.split(\"\\\\\")[-1].lower())\n",
        "    return column\n",
        "\n",
        "df['X-Folder'] = preprocess_folder(df['X-Folder'])\n",
        "df.head(2)"
      ],
      "execution_count": null,
      "outputs": [
        {
          "output_type": "execute_result",
          "data": {
            "text/html": [
              "<div>\n",
              "<style scoped>\n",
              "    .dataframe tbody tr th:only-of-type {\n",
              "        vertical-align: middle;\n",
              "    }\n",
              "\n",
              "    .dataframe tbody tr th {\n",
              "        vertical-align: top;\n",
              "    }\n",
              "\n",
              "    .dataframe thead th {\n",
              "        text-align: right;\n",
              "    }\n",
              "</style>\n",
              "<table border=\"1\" class=\"dataframe\">\n",
              "  <thead>\n",
              "    <tr style=\"text-align: right;\">\n",
              "      <th></th>\n",
              "      <th>Unnamed: 0</th>\n",
              "      <th>Unnamed</th>\n",
              "      <th>file</th>\n",
              "      <th>message</th>\n",
              "      <th>label</th>\n",
              "      <th>date</th>\n",
              "      <th>subject</th>\n",
              "      <th>X-Folder</th>\n",
              "      <th>X-From</th>\n",
              "      <th>X-To</th>\n",
              "      <th>body</th>\n",
              "      <th>employee</th>\n",
              "    </tr>\n",
              "  </thead>\n",
              "  <tbody>\n",
              "    <tr>\n",
              "      <th>0</th>\n",
              "      <td>0</td>\n",
              "      <td>1</td>\n",
              "      <td>badeer-r/discussion_threads/212.</td>\n",
              "      <td>Message-ID: &lt;13581696.1075863601488.JavaMail.e...</td>\n",
              "      <td>0.0</td>\n",
              "      <td>24-08-2000 09:55:00</td>\n",
              "      <td>Total Transfer Capabilities</td>\n",
              "      <td>discussion threads</td>\n",
              "      <td>\"Neeley, Myrna\" &lt;MNeeley@caiso.com&gt;</td>\n",
              "      <td>Market Status &lt;MarketStatus@caiso.com&gt;, PX Rea...</td>\n",
              "      <td>Attached are the Total Transfer Capabilities (...</td>\n",
              "      <td>badeer-r</td>\n",
              "    </tr>\n",
              "    <tr>\n",
              "      <th>1</th>\n",
              "      <td>1</td>\n",
              "      <td>2</td>\n",
              "      <td>allen-p/deleted_items/189.</td>\n",
              "      <td>Message-ID: &lt;7027882.1075858635275.JavaMail.ev...</td>\n",
              "      <td>0.0</td>\n",
              "      <td>24-10-2001 21:45:42</td>\n",
              "      <td>Save 30% on \"How People Grow : What the Bible ...</td>\n",
              "      <td>deleted items</td>\n",
              "      <td>\"Amazon.com\" &lt;book-news@amazon.com&gt;@ENRON</td>\n",
              "      <td>pallen@enron.com</td>\n",
              "      <td>\\r\\n[IMAGE] =09\\r\\n\\r\\n\\r\\n    Search   BooksA...</td>\n",
              "      <td>allen-p</td>\n",
              "    </tr>\n",
              "  </tbody>\n",
              "</table>\n",
              "</div>"
            ],
            "text/plain": [
              "   Unnamed: 0  ...  employee\n",
              "0           0  ...  badeer-r\n",
              "1           1  ...   allen-p\n",
              "\n",
              "[2 rows x 12 columns]"
            ]
          },
          "metadata": {},
          "execution_count": 113
        }
      ]
    },
    {
      "cell_type": "code",
      "metadata": {
        "trusted": true,
        "colab": {
          "base_uri": "https://localhost:8080/"
        },
        "id": "RYunmSI2rsnx",
        "outputId": "9f8b4138-28bc-4b84-ab86-c33b42b36797"
      },
      "source": [
        "# count unique folders\n",
        "print(\"Unique Foldes: \", len(df['X-Folder'].unique()))\n",
        "\n",
        "# view some of them\n",
        "df['X-Folder'].unique()[0:20]"
      ],
      "execution_count": null,
      "outputs": [
        {
          "output_type": "stream",
          "name": "stdout",
          "text": [
            "Unique Foldes:  64\n"
          ]
        },
        {
          "output_type": "execute_result",
          "data": {
            "text/plain": [
              "array(['discussion threads', 'deleted items', 'all documents',\n",
              "       \"'sent mail\", 'sent items', 'sent', 'hp', 'inbox', 'notes inbox',\n",
              "       'avaya', 'vanderbilt', 'tasks', 'bmc', 'california', 'hist-vols',\n",
              "       'saved mail', 'savedmail', 'dell', 'sony', 'compaq'], dtype=object)"
            ]
          },
          "metadata": {},
          "execution_count": 114
        }
      ]
    },
    {
      "cell_type": "markdown",
      "metadata": {
        "id": "pgzO3QdIrsnx"
      },
      "source": [
        "**Replace empty missing values in subject with np.nan**"
      ]
    },
    {
      "cell_type": "code",
      "metadata": {
        "trusted": true,
        "id": "LKhsIR9hrsny"
      },
      "source": [
        "def replace_empty_with_nan(subject):\n",
        "    column = []\n",
        "    for val in subject:\n",
        "        if (val == \"\"):\n",
        "            column.append(np.nan) \n",
        "        else:\n",
        "            column.append(val)\n",
        "    return column"
      ],
      "execution_count": null,
      "outputs": []
    },
    {
      "cell_type": "code",
      "metadata": {
        "trusted": true,
        "id": "ARlVk0EArsny"
      },
      "source": [
        "df['subject'] = replace_empty_with_nan(df['subject'])\n",
        "df['X-To'] = replace_empty_with_nan(df['X-To'])"
      ],
      "execution_count": null,
      "outputs": []
    },
    {
      "cell_type": "code",
      "metadata": {
        "trusted": true,
        "colab": {
          "base_uri": "https://localhost:8080/"
        },
        "id": "6-zc2qHqrsny",
        "outputId": "1687dc8d-f98b-495d-c78f-7562812a2123"
      },
      "source": [
        "df.isnull().sum()"
      ],
      "execution_count": null,
      "outputs": [
        {
          "output_type": "execute_result",
          "data": {
            "text/plain": [
              "Unnamed: 0       0\n",
              "Unnamed          0\n",
              "file             0\n",
              "message          0\n",
              "label            0\n",
              "date             0\n",
              "subject       1903\n",
              "X-Folder         0\n",
              "X-From           0\n",
              "X-To           138\n",
              "body             0\n",
              "employee         0\n",
              "dtype: int64"
            ]
          },
          "metadata": {},
          "execution_count": 117
        }
      ]
    },
    {
      "cell_type": "code",
      "metadata": {
        "trusted": true,
        "colab": {
          "base_uri": "https://localhost:8080/"
        },
        "id": "-oDfPjCXrsny",
        "outputId": "b73ab0e4-02ab-4f9f-c1c9-25c523e066fe"
      },
      "source": [
        "# calculate percentage of missing values\n",
        "miss = df.isnull().sum()\n",
        "miss = miss[miss>0]\n",
        "miss = miss / df.shape[0]\n",
        "miss"
      ],
      "execution_count": null,
      "outputs": [
        {
          "output_type": "execute_result",
          "data": {
            "text/plain": [
              "subject    0.1903\n",
              "X-To       0.0138\n",
              "dtype: float64"
            ]
          },
          "metadata": {},
          "execution_count": 118
        }
      ]
    },
    {
      "cell_type": "code",
      "metadata": {
        "trusted": true,
        "id": "nEzcGbgsrsny"
      },
      "source": [
        "# drop missing value rows\n",
        "df.dropna(axis=0, inplace=True)"
      ],
      "execution_count": null,
      "outputs": []
    },
    {
      "cell_type": "code",
      "metadata": {
        "trusted": true,
        "colab": {
          "base_uri": "https://localhost:8080/"
        },
        "id": "JZqbYR8irsnz",
        "outputId": "c2ec9da5-fc79-44f4-ce14-34ee6a4a75d2"
      },
      "source": [
        "df.isnull().sum(), df.shape"
      ],
      "execution_count": null,
      "outputs": [
        {
          "output_type": "execute_result",
          "data": {
            "text/plain": [
              "(Unnamed: 0    0\n",
              " Unnamed       0\n",
              " file          0\n",
              " message       0\n",
              " label         0\n",
              " date          0\n",
              " subject       0\n",
              " X-Folder      0\n",
              " X-From        0\n",
              " X-To          0\n",
              " body          0\n",
              " employee      0\n",
              " dtype: int64, (7961, 12))"
            ]
          },
          "metadata": {},
          "execution_count": 120
        }
      ]
    },
    {
      "cell_type": "markdown",
      "source": [
        "**Final PRJCT Code**"
      ],
      "metadata": {
        "id": "9PNZw4PsXcMB"
      }
    },
    {
      "cell_type": "code",
      "source": [
        "from sklearn.preprocessing import LabelEncoder\n",
        "from numpy import where\n",
        "from collections import Counter\n",
        "from sklearn.datasets import make_blobs\n",
        "from sklearn.cluster import KMeans\n",
        "from sklearn.tree import DecisionTreeClassifier\n",
        "from sklearn.model_selection import train_test_split\n",
        "from sklearn.datasets import make_classification\n",
        "from sklearn.metrics import accuracy_score\n",
        "from matplotlib import pyplot\n",
        "import pandas as pd\n",
        "print(df.head())\n",
        "label_encoder = LabelEncoder()\n",
        "\n",
        "df['subject'] = label_encoder.fit_transform(df['subject'])\n",
        "df['X-From'] = label_encoder.fit_transform(df['X-To'])\n",
        "df['X-To'] = label_encoder.fit_transform(df['X-From'])\n",
        "df['label'] = label_encoder.fit_transform(df['label'])\n",
        "pandasDate = pd.to_datetime(df['date'])\n",
        "df['hour'] = pandasDate.dt.hour\n",
        "df['weekday'] = pandasDate.dt.weekday\n",
        "tree_scores = [None]*100\n",
        "depth_of_tree = [None]*100\n",
        "leaves_of_tree = [None]*100\n",
        "features = df[['subject', 'X-From', 'hour', 'weekday']].sample(1000)\n",
        "features2 = df[['subject', 'X-From', 'X-To', 'hour', 'weekday']].sample(1000)\n",
        "features3 = df[['subject', 'X-From', 'X-To']].sample(1000)\n",
        "target = df['label'].sample(1000)\n",
        "for i in range(0,99):\n",
        "  #Implement train_test_split\n",
        "  X_train, X_test, Y_train, Y_test = train_test_split(features, target, test_size=.2) #features in Enron data = x, new data cloumn = y\n",
        "\n",
        "  #code for Decision tree classifier\n",
        "  clf = DecisionTreeClassifier().fit(X_train, Y_train)\n",
        "\n",
        "  tree_scores[i] = clf.score(X_test, Y_test)\n",
        "  depth_of_tree[i] = clf.get_depth()\n",
        "  leaves_of_tree[i] = clf.get_n_leaves()\n",
        "\n",
        "print(\"Features1 tree information with no max depth given:\\n\")\n",
        "print(\"Tree Accuracy:\\n\", pd.Series(tree_scores).describe())\n",
        "print(\"Tree Depths:\\n\", pd.Series(depth_of_tree).describe())\n",
        "print(\"Tree Leaves:\\n\", pd.Series(leaves_of_tree).describe())\n",
        "\n",
        "\n",
        "for i in range(0,99):\n",
        "  #Implement train_test_split\n",
        "  X_train, X_test, Y_train, Y_test = train_test_split(features, target, test_size=.2) #features in Enron data = x, new data cloumn = y\n",
        "\n",
        "  #code for Decision tree classifier\n",
        "  clf = DecisionTreeClassifier(max_depth=15).fit(X_train, Y_train)\n",
        "\n",
        "  tree_scores[i] = clf.score(X_test, Y_test)\n",
        "  depth_of_tree[i] = clf.get_depth()\n",
        "  leaves_of_tree[i] = clf.get_n_leaves()\n",
        "\n",
        "print(\"Features1 tree information at max depth of 15:\\n\")\n",
        "print(\"Tree Accuracy:\\n\", pd.Series(tree_scores).describe())\n",
        "print(\"Tree Depths:\\n\", pd.Series(depth_of_tree).describe())\n",
        "print(\"Tree Leaves:\\n\", pd.Series(leaves_of_tree).describe())\n",
        "\n",
        "for i in range(0,99):\n",
        "  #Implement train_test_split\n",
        "  X_train, X_test, Y_train, Y_test = train_test_split(features, target, test_size=.2) #features in Enron data = x, new data cloumn = y\n",
        "\n",
        "  #code for Decision tree classifier\n",
        "  clf = DecisionTreeClassifier(max_depth=10).fit(X_train, Y_train)\n",
        "\n",
        "  tree_scores[i] = clf.score(X_test, Y_test)\n",
        "  depth_of_tree[i] = clf.get_depth()\n",
        "  leaves_of_tree[i] = clf.get_n_leaves()\n",
        "\n",
        "print(\"Features1 tree information at max depth of 10:\\n\")\n",
        "print(\"Tree Accuracy:\\n\", pd.Series(tree_scores).describe())\n",
        "print(\"Tree Depths:\\n\", pd.Series(depth_of_tree).describe())\n",
        "print(\"Tree Leaves:\\n\", pd.Series(leaves_of_tree).describe())\n",
        "\n",
        "for i in range(0,99):\n",
        "  #Implement train_test_split\n",
        "  X_train, X_test, Y_train, Y_test = train_test_split(features, target, test_size=.2) #features in Enron data = x, new data cloumn = y\n",
        "\n",
        "  #code for Decision tree classifier\n",
        "  clf = DecisionTreeClassifier(max_depth=100).fit(X_train, Y_train)\n",
        "\n",
        "  tree_scores[i] = clf.score(X_test, Y_test)\n",
        "  depth_of_tree[i] = clf.get_depth()\n",
        "  leaves_of_tree[i] = clf.get_n_leaves()\n",
        "\n",
        "print(\"Features1 tree information at max depth of 100:\\n\")\n",
        "print(\"Tree Accuracy:\\n\", pd.Series(tree_scores).describe())\n",
        "print(\"Tree Depths:\\n\", pd.Series(depth_of_tree).describe())\n",
        "print(\"Tree Leaves:\\n\", pd.Series(leaves_of_tree).describe())\n",
        "\n",
        "#tests to see other features get different results\n",
        "\n",
        "for i in range(0,99):\n",
        "  #Implement train_test_split\n",
        "  X_train, X_test, Y_train, Y_test = train_test_split(features2, target, test_size=.2) #features in Enron data = x, new data cloumn = y\n",
        "\n",
        "  #code for Decision tree classifier\n",
        "  clf = DecisionTreeClassifier(max_depth=15).fit(X_train, Y_train)\n",
        "\n",
        " \n",
        "  tree_scores[i] = clf.score(X_test, Y_test)\n",
        "  depth_of_tree[i] = clf.get_depth()\n",
        "  leaves_of_tree[i] = clf.get_n_leaves()\n",
        "\n",
        "print(\"Features2 tree information at max depth of 15:\\n\")\n",
        "print(\"Tree Accuracy:\\n\", pd.Series(tree_scores).describe())\n",
        "print(\"Tree Depths:\\n\", pd.Series(depth_of_tree).describe())\n",
        "print(\"Tree Leaves:\\n\", pd.Series(leaves_of_tree).describe())\n",
        "\n",
        "for i in range(0,99):\n",
        "  #Implement train_test_split\n",
        "  X_train, X_test, Y_train, Y_test = train_test_split(features3, target, test_size=.2) #features in Enron data = x, new data cloumn = y\n",
        "\n",
        "  #code for Decision tree classifier\n",
        "  clf = DecisionTreeClassifier(max_depth=15).fit(X_train, Y_train)\n",
        "\n",
        "  tree_scores[i] = clf.score(X_test, Y_test)\n",
        "  depth_of_tree[i] = clf.get_depth()\n",
        "  leaves_of_tree[i] = clf.get_n_leaves()\n",
        "\n",
        "print(\"Features3 tree information at max depth of 15:\\n\")\n",
        "print(\"Tree Accuracy:\\n\", pd.Series(tree_scores).describe())\n",
        "print(\"Tree Depths:\\n\", pd.Series(depth_of_tree).describe())\n",
        "print(\"Tree Leaves:\\n\", pd.Series(leaves_of_tree).describe())\n",
        "\n",
        "for i in range(0,99):\n",
        "  #Implement train_test_split\n",
        "  X_train, X_test, Y_train, Y_test = train_test_split(features3, target, test_size=.2) #features in Enron data = x, new data cloumn = y\n",
        "\n",
        "  #code for Decision tree classifier\n",
        "  clf = DecisionTreeClassifier(max_depth=10).fit(X_train, Y_train)\n",
        "\n",
        "  tree_scores[i] = clf.score(X_test, Y_test)\n",
        "  depth_of_tree[i] = clf.get_depth()\n",
        "  leaves_of_tree[i] = clf.get_n_leaves()\n",
        "\n",
        "print(\"Features3 tree information at max depth of 10:\\n\")\n",
        "print(\"Tree Accuracy:\\n\", pd.Series(tree_scores).describe())\n",
        "print(\"Tree Depths:\\n\", pd.Series(depth_of_tree).describe())\n",
        "print(\"Tree Leaves:\\n\", pd.Series(leaves_of_tree).describe())\n",
        "\n",
        "#Results printed show that with factors of label encoded, the most important ones are label encoded versions of\n",
        "#X-To, X-From, and Subject, with the results of max depths at around 10 having further increased accuracy.\n",
        "#Therfore, as shown wiht my tests the result of a decsion tree testing those three features with a max depth of 10\n",
        "#will get the highest possible accuracy result I've found and thus will be used when testing the new data."
      ],
      "metadata": {
        "id": "sBPH1VP3Xi-W"
      },
      "execution_count": null,
      "outputs": []
    },
    {
      "cell_type": "markdown",
      "source": [
        "**Final Project Code: NewData results**"
      ],
      "metadata": {
        "id": "8KwigEJqQgA9"
      }
    },
    {
      "cell_type": "code",
      "source": [
        "from sklearn.preprocessing import LabelEncoder\n",
        "from numpy import where\n",
        "from collections import Counter\n",
        "from sklearn.datasets import make_blobs\n",
        "from sklearn.cluster import KMeans\n",
        "from sklearn.tree import DecisionTreeClassifier\n",
        "from sklearn.model_selection import train_test_split\n",
        "from sklearn.datasets import make_classification\n",
        "from sklearn.metrics import accuracy_score\n",
        "from matplotlib import pyplot\n",
        "import pandas as pd\n",
        "label_encoder = LabelEncoder()\n",
        "\n",
        "df['subject'] = label_encoder.fit_transform(df['subject'])\n",
        "df['X-From'] = label_encoder.fit_transform(df['X-To'])\n",
        "df['X-To'] = label_encoder.fit_transform(df['X-From'])\n",
        "df['label'] = label_encoder.fit_transform(df['label'])\n",
        "pandasDate = pd.to_datetime(df['date'])\n",
        "df['hour'] = pandasDate.dt.hour\n",
        "df['weekday'] = pandasDate.dt.weekday\n",
        "tree_scores = [None]*100\n",
        "depth_of_tree = [None]*100\n",
        "leaves_of_tree = [None]*100\n",
        "orginFeatures = df[['subject', 'X-From', 'hour', 'weekday']]\n",
        "optimalFeatures = df[['subject', 'X-From', 'X-To']]\n",
        "target = df['label']\n",
        "\n",
        "#Original Feature with no max depth of NewData for comparison\n",
        "for i in range(0,99):\n",
        "  #Implement train_test_split\n",
        "  X_train, X_test, Y_train, Y_test = train_test_split(orginFeatures, target, test_size=.2) #features in Enron data = x, new data cloumn = y\n",
        "\n",
        "  #code for Decision tree classifier\n",
        "  clf = DecisionTreeClassifier().fit(X_train, Y_train)\n",
        "\n",
        "  tree_scores[i] = clf.score(X_test, Y_test)\n",
        "  depth_of_tree[i] = clf.get_depth()\n",
        "  leaves_of_tree[i] = clf.get_n_leaves()\n",
        "\n",
        "print(\"Original Features of project tree with  no Max Depth given:\\n\")\n",
        "print(\"Tree Accuracy:\\n\", pd.Series(tree_scores).describe())\n",
        "print(\"Tree Depths:\\n\", pd.Series(depth_of_tree).describe())\n",
        "print(\"Tree Leaves:\\n\", pd.Series(leaves_of_tree).describe())\n",
        "\n",
        "#optimal features and max depth Newdata method\n",
        "for i in range(0,99):\n",
        "  #Implement train_test_split\n",
        "  X_train, X_test, Y_train, Y_test = train_test_split(optimalFeatures, target, test_size=.2) #features in Enron data = x, new data cloumn = y\n",
        "\n",
        "  #code for Decision tree classifier\n",
        "  clf2 = DecisionTreeClassifier(max_depth=10).fit(X_train, Y_train)\n",
        "\n",
        "  tree_scores[i] = clf2.score(X_test, Y_test)\n",
        "  depth_of_tree[i] = clf2.get_depth()\n",
        "  leaves_of_tree[i] = clf2.get_n_leaves()\n",
        "\n",
        "print(\"Omptimal Features tree information at max depth of 10:\\n\")\n",
        "print(\"Tree Accuracy:\\n\", pd.Series(tree_scores).describe())\n",
        "print(\"Tree Depths:\\n\", pd.Series(depth_of_tree).describe())\n",
        "print(\"Tree Leaves:\\n\", pd.Series(leaves_of_tree).describe())\n"
      ],
      "metadata": {
        "colab": {
          "base_uri": "https://localhost:8080/"
        },
        "outputId": "18622da8-c1ea-4f0e-d846-aae70a9563f5",
        "id": "gfjgrkff29EL"
      },
      "execution_count": null,
      "outputs": [
        {
          "output_type": "stream",
          "name": "stdout",
          "text": [
            "Original Features of project tree with  no Max Depth given:\n",
            "\n",
            "Tree Accuracy:\n",
            " count    99.000000\n",
            "mean      0.969450\n",
            "std       0.003746\n",
            "min       0.959196\n",
            "25%       0.966729\n",
            "50%       0.969240\n",
            "75%       0.971751\n",
            "max       0.979912\n",
            "dtype: float64\n",
            "Tree Depths:\n",
            " count    99.000000\n",
            "mean     24.040404\n",
            "std       2.506804\n",
            "min      19.000000\n",
            "25%      22.500000\n",
            "50%      24.000000\n",
            "75%      25.000000\n",
            "max      34.000000\n",
            "dtype: float64\n",
            "Tree Leaves:\n",
            " count     99.000000\n",
            "mean     290.818182\n",
            "std       10.362180\n",
            "min      266.000000\n",
            "25%      283.000000\n",
            "50%      291.000000\n",
            "75%      298.000000\n",
            "max      318.000000\n",
            "dtype: float64\n",
            "Omptimal Features tree information at max depth of 10:\n",
            "\n",
            "Tree Accuracy:\n",
            " count    99.000000\n",
            "mean      0.977515\n",
            "std       0.003605\n",
            "min       0.966729\n",
            "25%       0.975518\n",
            "50%       0.977401\n",
            "75%       0.979912\n",
            "max       0.986190\n",
            "dtype: float64\n",
            "Tree Depths:\n",
            " count    99.0\n",
            "mean     10.0\n",
            "std       0.0\n",
            "min      10.0\n",
            "25%      10.0\n",
            "50%      10.0\n",
            "75%      10.0\n",
            "max      10.0\n",
            "dtype: float64\n",
            "Tree Leaves:\n",
            " count     99.000000\n",
            "mean      79.444444\n",
            "std       13.938072\n",
            "min       44.000000\n",
            "25%       72.500000\n",
            "50%       80.000000\n",
            "75%       89.000000\n",
            "max      120.000000\n",
            "dtype: float64\n"
          ]
        }
      ]
    }
  ]
}